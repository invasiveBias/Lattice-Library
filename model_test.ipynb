{
 "cells": [
  {
   "cell_type": "code",
   "execution_count": 1,
   "metadata": {},
   "outputs": [],
   "source": [
    "from Classical.Linear_Regression import LinearRegression\n",
    "from Classical.Logistic_Regression import LogisticRegression\n",
    "from Classical.NearestNeighbour import KNN\n",
    "from Classical.Naive_Bayes import NaiveBayes\n",
    "from Classical.Support_Vectors import SVC, SVR\n",
    "from Classical.Trees.DecisonTree import Decision_Tree\n",
    "from Classical.Trees.RandomForest import Random_Forest\n",
    "from Classical.Trees.AdaBoost import  Ada_Boost\n",
    "from Classical.Trees.GradientBoost import Gradient_Boost\n",
    "from Classical.metrics import mean_absolute_error, mean_squared_error,accuracy\n",
    "import numpy as np\n",
    "from sklearn.model_selection import train_test_split\n",
    "from sklearn import datasets\n",
    "import matplotlib.pyplot as plt\n",
    "%matplotlib inline"
   ]
  },
  {
   "cell_type": "markdown",
   "metadata": {},
   "source": [
    "**Linear regression**"
   ]
  },
  {
   "cell_type": "code",
   "execution_count": 2,
   "metadata": {},
   "outputs": [
    {
     "name": "stdout",
     "output_type": "stream",
     "text": [
      "Beginning Training: fitting data of shape (80, 7) to Labels\n",
      "Training complete!!!\n",
      "14.159202822035066 \n"
     ]
    }
   ],
   "source": [
    "X,y = datasets.make_regression(n_samples=100,n_features=7,noise=20,random_state=4)\n",
    "X_train, X_test, y_train, y_test = train_test_split(X,y, test_size=0.2, random_state=1234)\n",
    "regressor = LinearRegression(lr=0.01)\n",
    "regressor.fit(X_train,y_train)\n",
    "lr_predict = regressor.predict(X_test)\n",
    "mae = mean_absolute_error(y_test,lr_predict._data)\n",
    "print(mae)"
   ]
  },
  {
   "cell_type": "markdown",
   "metadata": {},
   "source": [
    "**Logistic regression**"
   ]
  },
  {
   "cell_type": "code",
   "execution_count": 3,
   "metadata": {},
   "outputs": [
    {
     "name": "stdout",
     "output_type": "stream",
     "text": [
      "Beginning Training: fitting data of shape (455, 30) to Labels\n"
     ]
    },
    {
     "name": "stderr",
     "output_type": "stream",
     "text": [
      "c:\\Users\\PC\\Desktop\\Lattice library\\Lattice\\Lattice_mathcomp.py:65: RuntimeWarning: overflow encountered in exp\n",
      "  val._data = np.exp(val._data.astype(float))\n"
     ]
    },
    {
     "name": "stdout",
     "output_type": "stream",
     "text": [
      "Training complete!!!\n",
      "0.8947368421052632 \n"
     ]
    }
   ],
   "source": [
    "bc = datasets.load_breast_cancer()\n",
    "X,y = bc.data, bc.target\n",
    "X_train, X_test, y_train, y_test = train_test_split(X,y, test_size=0.2, random_state=1234)\n",
    "regressor = LogisticRegression(lr= 0.001)\n",
    "regressor.fit(X_train,y_train)\n",
    "predict = regressor.predict(X_test)\n",
    "acc = accuracy(y_test, predict)\n",
    "print(acc)"
   ]
  },
  {
   "cell_type": "markdown",
   "metadata": {},
   "source": [
    "**K-nearest neighbour classification**"
   ]
  },
  {
   "cell_type": "code",
   "execution_count": 4,
   "metadata": {},
   "outputs": [
    {
     "name": "stdout",
     "output_type": "stream",
     "text": [
      "1.0 \n"
     ]
    }
   ],
   "source": [
    "iris = datasets.load_iris()\n",
    "X,y = iris.data, iris.target\n",
    "X_train, X_test, y_train, y_test = train_test_split(X,y, test_size=0.2, random_state=1234)\n",
    "knn = KNN(k=2)\n",
    "knn.fit(X_train,y_train)\n",
    "predict = knn.predict(X_test)\n",
    "acc = accuracy(y_test, predict)\n",
    "print(acc)"
   ]
  },
  {
   "cell_type": "markdown",
   "metadata": {},
   "source": [
    "**K-nearest neighbour regression**"
   ]
  },
  {
   "cell_type": "code",
   "execution_count": 5,
   "metadata": {},
   "outputs": [
    {
     "name": "stdout",
     "output_type": "stream",
     "text": [
      "3400.129842411957 \n"
     ]
    }
   ],
   "source": [
    "X,y = datasets.make_regression(n_samples=500,n_features=7,noise=20,random_state=4)\n",
    "X_train, X_test, y_train, y_test = train_test_split(X,y, test_size=0.2, random_state=1234)\n",
    "knn = KNN(k=7,mode='rgs')\n",
    "knn.fit(X_train,y_train)\n",
    "predict = knn.predict(X_test)\n",
    "mse = mean_squared_error(y_test, predict)\n",
    "print(mse)"
   ]
  },
  {
   "cell_type": "markdown",
   "metadata": {},
   "source": [
    "**Naive Bayes**"
   ]
  },
  {
   "cell_type": "code",
   "execution_count": 6,
   "metadata": {},
   "outputs": [
    {
     "name": "stdout",
     "output_type": "stream",
     "text": [
      "0.455 \n"
     ]
    },
    {
     "name": "stderr",
     "output_type": "stream",
     "text": [
      "c:\\Users\\PC\\Desktop\\Lattice library\\Lattice\\Lattice_type.py:491: RuntimeWarning: divide by zero encountered in divide\n",
      "  data = a._data / b._data\n",
      "c:\\Users\\PC\\Desktop\\Lattice library\\Lattice\\Lattice_type.py:491: RuntimeWarning: invalid value encountered in divide\n",
      "  data = a._data / b._data\n"
     ]
    }
   ],
   "source": [
    "X,y = datasets.make_classification(n_samples=1000,n_features=6,n_classes=2,n_informative=4,n_redundant=2,random_state=42) \n",
    "X_train, X_test, y_train, y_test = train_test_split(X,y, test_size=0.2, random_state=1234)\n",
    "nb = NaiveBayes()\n",
    "nb.fit(X_train,y_train)\n",
    "predict = nb.predict(X_test)\n",
    "acc = accuracy(y_test,predict)\n",
    "print(acc)"
   ]
  },
  {
   "cell_type": "markdown",
   "metadata": {},
   "source": [
    "**Support Vector Machines Classification**"
   ]
  },
  {
   "cell_type": "code",
   "execution_count": 7,
   "metadata": {},
   "outputs": [
    {
     "name": "stdout",
     "output_type": "stream",
     "text": [
      "0.975 \n"
     ]
    }
   ],
   "source": [
    "X,y = datasets.make_classification(n_samples=200,n_features=4,n_classes=2,n_informative=2,n_redundant=2,n_clusters_per_class=1,random_state=1234) \n",
    "X_train, X_test, y_train, y_test = train_test_split(X,y, test_size=0.2, random_state=1234)\n",
    "svc = SVC(n_iters = 50)\n",
    "svc.fit(X_train,y_train)\n",
    "predict = svc.predict(X_test)\n",
    "acc = accuracy(y_test,predict)\n",
    "print(acc)"
   ]
  },
  {
   "cell_type": "markdown",
   "metadata": {},
   "source": [
    "**Support Vector Machines Regression**"
   ]
  },
  {
   "cell_type": "code",
   "execution_count": 8,
   "metadata": {},
   "outputs": [
    {
     "data": {
      "text/plain": [
       "580.3954018219258 "
      ]
     },
     "execution_count": 8,
     "metadata": {},
     "output_type": "execute_result"
    }
   ],
   "source": [
    "X,y = datasets.make_regression(n_samples=70,n_features=7,noise=20,random_state=4)\n",
    "X_train, X_test, y_train, y_test = train_test_split(X,y, test_size=0.2, random_state=1234)\n",
    "svr = SVR(learning_rate = 0.001,i_loss=0.001,n_iters=100)\n",
    "svr.fit(X_train,y_train)\n",
    "predict = svr.predict(X_test)\n",
    "mse = mean_squared_error(y_test, predict)\n",
    "mse"
   ]
  },
  {
   "cell_type": "markdown",
   "metadata": {},
   "source": [
    "**Decision Trees Classification**"
   ]
  },
  {
   "cell_type": "code",
   "execution_count": 9,
   "metadata": {},
   "outputs": [
    {
     "name": "stdout",
     "output_type": "stream",
     "text": [
      "0.9298245614035088 \n"
     ]
    }
   ],
   "source": [
    "bc = datasets.load_breast_cancer()\n",
    "X,y = bc.data, bc.target\n",
    "X_train, X_test, y_train, y_test = train_test_split(X,y, test_size=0.2, random_state=1234)\n",
    "dt= Decision_Tree(max_depth = 30)\n",
    "dt.fit(X_train,y_train)\n",
    "predict = dt.predict(X_test)\n",
    "acc = accuracy(y_test,predict)\n",
    "print(acc)"
   ]
  },
  {
   "cell_type": "markdown",
   "metadata": {},
   "source": [
    "**Decision Trees Regression**"
   ]
  },
  {
   "cell_type": "code",
   "execution_count": 10,
   "metadata": {},
   "outputs": [
    {
     "data": {
      "text/plain": [
       "3268.746456163781 "
      ]
     },
     "execution_count": 10,
     "metadata": {},
     "output_type": "execute_result"
    }
   ],
   "source": [
    "X,y = datasets.make_regression(n_samples=300,n_features=4,noise=20,random_state=4)\n",
    "X_train, X_test, y_train, y_test = train_test_split(X,y, test_size=0.2, random_state=1234)\n",
    "dt= Decision_Tree(max_depth = 200,mode='rgs',)\n",
    "dt.fit(X_train,y_train)\n",
    "predict = dt.predict(X_test)\n",
    "mse = mean_squared_error(y_test, predict)\n",
    "mse"
   ]
  },
  {
   "cell_type": "markdown",
   "metadata": {},
   "source": [
    "**Random Forest classification**"
   ]
  },
  {
   "cell_type": "code",
   "execution_count": 11,
   "metadata": {},
   "outputs": [
    {
     "name": "stdout",
     "output_type": "stream",
     "text": [
      "0.81 \n"
     ]
    }
   ],
   "source": [
    "X,y = datasets.make_classification(n_samples=500,n_features=6,n_classes=5,n_informative=5,n_redundant=1,n_clusters_per_class=1,random_state=12) \n",
    "X_train, X_test, y_train, y_test = train_test_split(X,y, test_size=0.2, random_state=12)\n",
    "rf= Random_Forest(n_trees=30,max_depth = 20)\n",
    "rf.fit(X_train,y_train)\n",
    "predict = rf.predict(X_test)\n",
    "acc = accuracy(y_test,predict)\n",
    "print(acc)"
   ]
  },
  {
   "cell_type": "markdown",
   "metadata": {},
   "source": [
    "**Random Forest regression**"
   ]
  },
  {
   "cell_type": "code",
   "execution_count": 12,
   "metadata": {},
   "outputs": [
    {
     "data": {
      "text/plain": [
       "590.6669862656421 "
      ]
     },
     "execution_count": 12,
     "metadata": {},
     "output_type": "execute_result"
    }
   ],
   "source": [
    "X,y = datasets.make_regression(n_samples=500,n_features=3,noise=20,random_state=4)\n",
    "X_train, X_test, y_train, y_test = train_test_split(X,y, test_size=0.2, random_state=1234)\n",
    "rf= Random_Forest(n_trees=100, max_depth = 60,mode='rgs')\n",
    "rf.fit(X_train,y_train)\n",
    "predict = rf.predict(X_test)\n",
    "mse = mean_squared_error(y_test, predict)\n",
    "mse"
   ]
  },
  {
   "cell_type": "markdown",
   "metadata": {},
   "source": [
    "**AdaBoost classification**"
   ]
  },
  {
   "cell_type": "code",
   "execution_count": 13,
   "metadata": {},
   "outputs": [
    {
     "data": {
      "text/plain": [
       "0.825 "
      ]
     },
     "execution_count": 13,
     "metadata": {},
     "output_type": "execute_result"
    }
   ],
   "source": [
    "X,y = datasets.make_classification(n_samples=200,n_features=10,n_classes=2,n_clusters_per_class=1,random_state=12) \n",
    "X_train, X_test, y_train, y_test = train_test_split(X,y, test_size=0.2, random_state=1234)\n",
    "ad = Ada_Boost(n_clf=5)\n",
    "ad.fit(X_train,y_train)\n",
    "predict = ad.predict(X_test)\n",
    "acc = accuracy(y_test,predict)\n",
    "acc"
   ]
  },
  {
   "cell_type": "markdown",
   "metadata": {},
   "source": [
    "**Gradient Boost Regression**"
   ]
  },
  {
   "cell_type": "code",
   "execution_count": 14,
   "metadata": {},
   "outputs": [
    {
     "data": {
      "text/plain": [
       "3668.5001015174385 "
      ]
     },
     "execution_count": 14,
     "metadata": {},
     "output_type": "execute_result"
    }
   ],
   "source": [
    "X,y = datasets.make_regression(n_samples=500,n_features=3,noise=20,random_state=4)\n",
    "X_train, X_test, y_train, y_test = train_test_split(X,y, test_size=0.2, random_state=1234)\n",
    "gb = Gradient_Boost(n_learners=10,mode='rgs',gamma=0.1,max_depth=5)\n",
    "gb.fit(X_train,y_train)\n",
    "predict = gb.predict(X_test)\n",
    "mse = mean_squared_error(y_test, predict)\n",
    "mse"
   ]
  },
  {
   "cell_type": "markdown",
   "metadata": {},
   "source": [
    "**Gradient Boost Binary Classification**"
   ]
  },
  {
   "cell_type": "code",
   "execution_count": 2,
   "metadata": {},
   "outputs": [
    {
     "data": {
      "text/plain": [
       "0.93 "
      ]
     },
     "execution_count": 2,
     "metadata": {},
     "output_type": "execute_result"
    }
   ],
   "source": [
    "X,y = datasets.make_classification(n_samples=500,n_features=5,n_classes=2,n_clusters_per_class=1,random_state=12) \n",
    "X_train, X_test, y_train, y_test = train_test_split(X,y, test_size=0.2, random_state=1234)\n",
    "gb = Gradient_Boost(n_learners=5,mode='cls',gamma=0.1,max_depth=10)\n",
    "gb.fit(X_train,y_train)\n",
    "predict = gb.predict(X_test)\n",
    "acc = accuracy(y_test,predict)\n",
    "acc"
   ]
  },
  {
   "cell_type": "code",
   "execution_count": 7,
   "metadata": {},
   "outputs": [
    {
     "data": {
      "text/plain": [
       "0.4166666666666667 "
      ]
     },
     "execution_count": 7,
     "metadata": {},
     "output_type": "execute_result"
    }
   ],
   "source": [
    "from Classical.Trees.GradientBoost import Gradient_Boost\n",
    "from Classical.metrics import mean_absolute_error, mean_squared_error,accuracy\n",
    "from sklearn.model_selection import train_test_split\n",
    "from sklearn import datasets\n",
    "X,y = datasets.make_classification(n_samples=300,n_features=5,n_classes=3,n_clusters_per_class=1,random_state=12) \n",
    "X_train, X_test, y_train, y_test = train_test_split(X,y, test_size=0.2, random_state=42)\n",
    "gb = Gradient_Boost(n_learners=10,mode='cls',gamma=0.2,max_depth=10,mclass=True)\n",
    "gb.fit(X_train,y_train)\n",
    "predict = gb.predict(X_test)\n",
    "acc = accuracy(y_test,predict)\n",
    "acc"
   ]
  },
  {
   "cell_type": "code",
   "execution_count": 8,
   "metadata": {},
   "outputs": [
    {
     "data": {
      "text/plain": [
       "(array([2, 2, 2, 1, 2, 1, 0, 0, 1, 2, 1, 0, 1, 1, 2, 0, 2, 1, 1, 0, 2, 0,\n",
       "        1, 1, 1, 2, 2, 1, 1, 2, 2, 2, 1, 2, 0, 0, 1, 1, 1, 2, 2, 2, 2, 1,\n",
       "        1, 0, 0, 0, 1, 2, 1, 0, 2, 2, 1, 2, 1, 1, 1, 1]),\n",
       " Lt_tensor([0 2 0 0 2 0 0 0 0 0 0 0 0 0 2 0 0 0 0 0 2 0 0 0 0 0 2 0 0 0 2 2 0 2 0 0 0\n",
       "  0 0 0 2 2 0 0 0 0 0 0 0 2 0 0 0 0 1 0 1 0 0 0] ))"
      ]
     },
     "execution_count": 8,
     "metadata": {},
     "output_type": "execute_result"
    }
   ],
   "source": [
    "y_test,predict"
   ]
  },
  {
   "cell_type": "markdown",
   "metadata": {},
   "source": [
    "**from sklearn.ensemble import GradientBoostingClassifier\n",
    "from sklearn.metrics import accuracy_score\n",
    "gbc = GradientBoostingClassifier(n_estimators=10, \n",
    "                                 learning_rate=0.3, \n",
    "                                 max_depth=6)\n",
    "gbc.fit(X_train, y_train)\n",
    "pred = gbc.predict(X_test)\n",
    "accuracy_score(y_test, pred)**"
   ]
  },
  {
   "cell_type": "code",
   "execution_count": null,
   "metadata": {},
   "outputs": [],
   "source": []
  },
  {
   "cell_type": "code",
   "execution_count": null,
   "metadata": {},
   "outputs": [],
   "source": []
  },
  {
   "cell_type": "code",
   "execution_count": null,
   "metadata": {},
   "outputs": [],
   "source": []
  }
 ],
 "metadata": {
  "kernelspec": {
   "display_name": "Python 3",
   "language": "python",
   "name": "python3"
  },
  "language_info": {
   "codemirror_mode": {
    "name": "ipython",
    "version": 3
   },
   "file_extension": ".py",
   "mimetype": "text/x-python",
   "name": "python",
   "nbconvert_exporter": "python",
   "pygments_lexer": "ipython3",
   "version": "3.12.3"
  }
 },
 "nbformat": 4,
 "nbformat_minor": 2
}
