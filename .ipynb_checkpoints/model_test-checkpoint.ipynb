{
 "cells": [
  {
   "cell_type": "code",
   "execution_count": 1,
   "metadata": {},
   "outputs": [],
   "source": [
    "from Classical.Linear_Regression import LinearRegression\n",
    "from Classical.Logistic_Regression import LogisticRegression\n",
    "from Classical.NearestNeighbour import KNN\n",
    "from Classical.metrics import mean_absolute_error, mean_squared_error,accuracy\n",
    "from Classical.Naive_Bayes import NaiveBayes\n",
    "from Classical.Support_Vectors import SVC, SVR\n",
    "import numpy as np\n",
    "from sklearn.model_selection import train_test_split\n",
    "from sklearn import datasets\n",
    "import matplotlib.pyplot as plt\n",
    "%matplotlib inline"
   ]
  },
  {
   "cell_type": "markdown",
   "metadata": {},
   "source": [
    "**Linear regression**"
   ]
  },
  {
   "cell_type": "code",
   "execution_count": 2,
   "metadata": {},
   "outputs": [
    {
     "name": "stdout",
     "output_type": "stream",
     "text": [
      "Beginning Training: fitting data of shape (80, 7) to Labels\n",
      "Training complete!!!\n",
      "14.159202822035065 \n"
     ]
    }
   ],
   "source": [
    "X,y = datasets.make_regression(n_samples=100,n_features=7,noise=20,random_state=4)\n",
    "X_train, X_test, y_train, y_test = train_test_split(X,y, test_size=0.2, random_state=1234)\n",
    "regressor = LinearRegression(lr=0.01)\n",
    "regressor.fit(X_train,y_train)\n",
    "lr_predict = regressor.predict(X_test)\n",
    "mae = mean_absolute_error(y_test,lr_predict._data)\n",
    "print(mae)"
   ]
  },
  {
   "cell_type": "markdown",
   "metadata": {},
   "source": [
    "**Logistic regression**"
   ]
  },
  {
   "cell_type": "code",
   "execution_count": 3,
   "metadata": {},
   "outputs": [
    {
     "name": "stdout",
     "output_type": "stream",
     "text": [
      "Beginning Training: fitting data of shape (455, 30) to Labels\n"
     ]
    },
    {
     "name": "stderr",
     "output_type": "stream",
     "text": [
      "c:\\Users\\LENOVO\\Desktop\\Lattice library\\Lattice\\Lattice_mathcomp.py:46: RuntimeWarning: overflow encountered in exp\n",
      "  val._data = np.exp(val._data.astype(float))\n"
     ]
    },
    {
     "name": "stdout",
     "output_type": "stream",
     "text": [
      "Training complete!!!\n",
      "0.8947368421052632 \n"
     ]
    }
   ],
   "source": [
    "bc = datasets.load_breast_cancer()\n",
    "X,y = bc.data, bc.target\n",
    "X_train, X_test, y_train, y_test = train_test_split(X,y, test_size=0.2, random_state=1234)\n",
    "regressor = LogisticRegression(lr= 0.001)\n",
    "regressor.fit(X_train,y_train)\n",
    "predict = regressor.predict(X_test)\n",
    "acc = accuracy(y_test, predict)\n",
    "print(acc)"
   ]
  },
  {
   "cell_type": "markdown",
   "metadata": {},
   "source": [
    "**K-nearest neighbour classification**"
   ]
  },
  {
   "cell_type": "code",
   "execution_count": 4,
   "metadata": {},
   "outputs": [
    {
     "name": "stdout",
     "output_type": "stream",
     "text": [
      "1.0 \n"
     ]
    }
   ],
   "source": [
    "iris = datasets.load_iris()\n",
    "X,y = iris.data, iris.target\n",
    "X_train, X_test, y_train, y_test = train_test_split(X,y, test_size=0.2, random_state=1234)\n",
    "knn = KNN(k=2)\n",
    "knn.fit(X_train,y_train)\n",
    "predict = knn.predict(X_test)\n",
    "acc = accuracy(y_test, predict)\n",
    "print(acc)"
   ]
  },
  {
   "cell_type": "markdown",
   "metadata": {},
   "source": [
    "**K-nearest neighbour regression**"
   ]
  },
  {
   "cell_type": "code",
   "execution_count": 10,
   "metadata": {},
   "outputs": [
    {
     "name": "stdout",
     "output_type": "stream",
     "text": [
      "3400.129842411957 \n"
     ]
    }
   ],
   "source": [
    "X,y = datasets.make_regression(n_samples=500,n_features=7,noise=20,random_state=4)\n",
    "X_train, X_test, y_train, y_test = train_test_split(X,y, test_size=0.2, random_state=1234)\n",
    "knn = KNN(k=7,mode='rgs')\n",
    "knn.fit(X_train,y_train)\n",
    "predict = knn.predict(X_test)\n",
    "mse = mean_squared_error(y_test, predict)\n",
    "print(mse)"
   ]
  },
  {
   "cell_type": "markdown",
   "metadata": {},
   "source": [
    "**Naive Bayes**"
   ]
  },
  {
   "cell_type": "code",
   "execution_count": 2,
   "metadata": {},
   "outputs": [
    {
     "name": "stdout",
     "output_type": "stream",
     "text": [
      "0.62 \n"
     ]
    }
   ],
   "source": [
    "X,y = datasets.make_classification(n_samples=500,n_features=6,n_classes=5,n_informative=4,n_redundant=2,random_state=42) \n",
    "X_train, X_test, y_train, y_test = train_test_split(X,y, test_size=0.2, random_state=1234)\n",
    "nb = NaiveBayes()\n",
    "nb.fit(X_train,y_train)\n",
    "predict = nb.predict(X_test)\n",
    "acc = accuracy(y_test,predict)\n",
    "print(acc)"
   ]
  },
  {
   "cell_type": "code",
   "execution_count": 8,
   "metadata": {},
   "outputs": [
    {
     "name": "stdout",
     "output_type": "stream",
     "text": [
      "0.5 \n"
     ]
    }
   ],
   "source": [
    "X,y = datasets.make_classification(n_samples=150,n_features=8,n_classes=5,n_informative=4,n_redundant=4,random_state=42) \n",
    "X_train, X_test, y_train, y_test = train_test_split(X,y, test_size=0.2, random_state=1234)\n",
    "svc = SVC(n_iters = 200)\n",
    "svc.fit(X_train,y_train)\n",
    "predict = svc.predict(X_test)\n",
    "acc = accuracy(y_test,predict)\n",
    "print(acc)"
   ]
  },
  {
   "cell_type": "code",
   "execution_count": null,
   "metadata": {},
   "outputs": [],
   "source": [
    "X,y = datasets.make_regression(n_samples=100,n_features=7,noise=20,random_state=4)\n",
    "X_train, X_test, y_train, y_test = train_test_split(X,y, test_size=0.2, random_state=1234)\n",
    "svr = SVR(learning_rate = 0.001,i_loss=0.001)\n",
    "svr.fit(X_train,y_train)\n",
    "predict = svr.predict(X_test)\n",
    "mse = mean_squared_error(y_test, predict)\n",
    "print(mse)"
   ]
  },
  {
   "cell_type": "code",
   "execution_count": 13,
   "metadata": {},
   "outputs": [
    {
     "data": {
      "text/plain": [
       "(Lt_tensor([ 107.54275498  -57.08786506  -53.1872537    14.15848662  254.99007033\n",
       "  -199.49333008  -97.29036607  -69.51258748  176.01455672  -31.4157637 ] ),\n",
       " array([  70.95814055,  -81.38743482,  -65.29167519,    1.09835892,\n",
       "         194.64274338, -206.98328905, -132.93205449,  -72.90284519,\n",
       "         141.08586429,  -53.26063805]))"
      ]
     },
     "execution_count": 13,
     "metadata": {},
     "output_type": "execute_result"
    }
   ],
   "source": [
    "predict, y_test"
   ]
  },
  {
   "cell_type": "code",
   "execution_count": null,
   "metadata": {},
   "outputs": [],
   "source": []
  }
 ],
 "metadata": {
  "kernelspec": {
   "display_name": "Python 3 (ipykernel)",
   "language": "python",
   "name": "python3"
  },
  "language_info": {
   "codemirror_mode": {
    "name": "ipython",
    "version": 3
   },
   "file_extension": ".py",
   "mimetype": "text/x-python",
   "name": "python",
   "nbconvert_exporter": "python",
   "pygments_lexer": "ipython3",
   "version": "3.9.13"
  }
 },
 "nbformat": 4,
 "nbformat_minor": 2
}
